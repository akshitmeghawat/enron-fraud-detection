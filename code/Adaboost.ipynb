{
 "cells": [
  {
   "cell_type": "code",
   "execution_count": 1,
   "metadata": {},
   "outputs": [
    {
     "name": "stderr",
     "output_type": "stream",
     "text": [
      "/Users/akshitmeghawat/anaconda/lib/python2.7/site-packages/sklearn/cross_validation.py:41: DeprecationWarning: This module was deprecated in version 0.18 in favor of the model_selection module into which all the refactored classes and functions are moved. Also note that the interface of the new CV iterators are different from that of this module. This module will be removed in 0.20.\n",
      "  \"This module will be removed in 0.20.\", DeprecationWarning)\n"
     ]
    }
   ],
   "source": [
    "#!/usr/bin/python\n",
    "import sys\n",
    "import pickle\n",
    "import pandas as pd\n",
    "import numpy as np\n",
    "import random\n",
    "import collections, operator\n",
    "import seaborn as sea\n",
    "import matplotlib.pyplot as plt\n",
    "from sklearn.model_selection import train_test_split\n",
    "from sklearn.metrics import classification_report\n",
    "%matplotlib inline\n",
    "\n",
    "sys.path.append(\"../tools/\")\n",
    "\n",
    "from feature_format import featureFormat, targetFeatureSplit\n",
    "from tester import dump_classifier_and_data\n",
    "import explore_data\n",
    "\n",
    "import warnings\n",
    "warnings.filterwarnings('ignore')\n",
    "\n"
   ]
  },
  {
   "cell_type": "code",
   "execution_count": 2,
   "metadata": {},
   "outputs": [
    {
     "name": "stdout",
     "output_type": "stream",
     "text": [
      "####### Explore Data #########\n",
      "Valid values: \n",
      "{'bonus': 82,\n",
      " 'deferral_payments': 39,\n",
      " 'deferred_income': 49,\n",
      " 'director_fees': 17,\n",
      " 'email_address': 111,\n",
      " 'exercised_stock_options': 102,\n",
      " 'expenses': 95,\n",
      " 'from_messages': 86,\n",
      " 'from_poi_to_this_person': 86,\n",
      " 'from_this_person_to_poi': 86,\n",
      " 'loan_advances': 4,\n",
      " 'long_term_incentive': 66,\n",
      " 'other': 93,\n",
      " 'poi': 146,\n",
      " 'restricted_stock': 110,\n",
      " 'restricted_stock_deferred': 18,\n",
      " 'salary': 95,\n",
      " 'shared_receipt_with_poi': 86,\n",
      " 'to_messages': 86,\n",
      " 'total_payments': 125,\n",
      " 'total_stock_value': 126}\n",
      "\n",
      "Count of people:  146\n",
      "Count of POIs:  18\n"
     ]
    }
   ],
   "source": [
    "# full list\n",
    "\n",
    "\"\"\"Task 1: Select features features_list is a list of strings, \n",
    "each of which is a feature name. The first feature is \"poi\".\"\"\"\n",
    "\n",
    "features_list = [\n",
    "    'poi',\n",
    "    'salary',\n",
    "    'to_messages',\n",
    "    'deferral_payments',\n",
    "    'total_payments',\n",
    "    'exercised_stock_options',\n",
    "    'bonus',\n",
    "    'restricted_stock',\n",
    "    'shared_receipt_with_poi',\n",
    "    'restricted_stock_deferred',\n",
    "    'total_stock_value',\n",
    "    'expenses',\n",
    "    'loan_advances',\n",
    "    'from_messages',\n",
    "    'other',\n",
    "    'from_this_person_to_poi',\n",
    "    'director_fees',\n",
    "    'deferred_income',\n",
    "    'long_term_incentive',\n",
    "    'from_poi_to_this_person',\n",
    "    ]\n",
    "\n",
    "### Load the dictionary containing the dataset\n",
    "\n",
    "with open('final_project_dataset.pkl', 'r') as data_file:\n",
    "    data_dict = pickle.load(data_file)\n",
    "\n",
    "df = pd.DataFrame.from_dict(data_dict, orient='index')\n",
    "df = df.replace('NaN', np.nan)\n",
    "\n",
    "### Explore data\n",
    "print('####### Explore Data #########')\n",
    "\n",
    "from explore_data import find_highest_paid, count_valid_values\n",
    "count_valid_values(data_dict)\n",
    "print ''\n",
    "print 'Count of people: ', len(data_dict)\n",
    "poiCount = sum(p['poi'] == 1 for p in data_dict.values())\n",
    "print 'Count of POIs: ', poiCount\n",
    "# visualize_data(data_dict, features_list)\n",
    "\n",
    "# print 'Missing data in each column'\n",
    "# print df.isnull().sum()"
   ]
  },
  {
   "cell_type": "code",
   "execution_count": 3,
   "metadata": {},
   "outputs": [
    {
     "data": {
      "text/html": [
       "<div>\n",
       "<style scoped>\n",
       "    .dataframe tbody tr th:only-of-type {\n",
       "        vertical-align: middle;\n",
       "    }\n",
       "\n",
       "    .dataframe tbody tr th {\n",
       "        vertical-align: top;\n",
       "    }\n",
       "\n",
       "    .dataframe thead th {\n",
       "        text-align: right;\n",
       "    }\n",
       "</style>\n",
       "<table border=\"1\" class=\"dataframe\">\n",
       "  <thead>\n",
       "    <tr style=\"text-align: right;\">\n",
       "      <th></th>\n",
       "      <th>salary</th>\n",
       "      <th>to_messages</th>\n",
       "      <th>deferral_payments</th>\n",
       "      <th>total_payments</th>\n",
       "      <th>exercised_stock_options</th>\n",
       "      <th>bonus</th>\n",
       "      <th>restricted_stock</th>\n",
       "      <th>shared_receipt_with_poi</th>\n",
       "      <th>restricted_stock_deferred</th>\n",
       "      <th>total_stock_value</th>\n",
       "      <th>...</th>\n",
       "      <th>loan_advances</th>\n",
       "      <th>from_messages</th>\n",
       "      <th>other</th>\n",
       "      <th>from_this_person_to_poi</th>\n",
       "      <th>poi</th>\n",
       "      <th>director_fees</th>\n",
       "      <th>deferred_income</th>\n",
       "      <th>long_term_incentive</th>\n",
       "      <th>email_address</th>\n",
       "      <th>from_poi_to_this_person</th>\n",
       "    </tr>\n",
       "  </thead>\n",
       "  <tbody>\n",
       "    <tr>\n",
       "      <th>KAMINSKI WINCENTY J</th>\n",
       "      <td>275101.0</td>\n",
       "      <td>4607.0</td>\n",
       "      <td>NaN</td>\n",
       "      <td>1086821.0</td>\n",
       "      <td>850010.0</td>\n",
       "      <td>400000.0</td>\n",
       "      <td>126027.0</td>\n",
       "      <td>583.0</td>\n",
       "      <td>NaN</td>\n",
       "      <td>976037.0</td>\n",
       "      <td>...</td>\n",
       "      <td>NaN</td>\n",
       "      <td>14368.0</td>\n",
       "      <td>4669.0</td>\n",
       "      <td>171.0</td>\n",
       "      <td>False</td>\n",
       "      <td>NaN</td>\n",
       "      <td>NaN</td>\n",
       "      <td>323466.0</td>\n",
       "      <td>vince.kaminski@enron.com</td>\n",
       "      <td>41.0</td>\n",
       "    </tr>\n",
       "  </tbody>\n",
       "</table>\n",
       "<p>1 rows × 21 columns</p>\n",
       "</div>"
      ],
      "text/plain": [
       "                       salary  to_messages  deferral_payments  total_payments  \\\n",
       "KAMINSKI WINCENTY J  275101.0       4607.0                NaN       1086821.0   \n",
       "\n",
       "                     exercised_stock_options     bonus  restricted_stock  \\\n",
       "KAMINSKI WINCENTY J                 850010.0  400000.0          126027.0   \n",
       "\n",
       "                     shared_receipt_with_poi  restricted_stock_deferred  \\\n",
       "KAMINSKI WINCENTY J                    583.0                        NaN   \n",
       "\n",
       "                     total_stock_value           ...            loan_advances  \\\n",
       "KAMINSKI WINCENTY J           976037.0           ...                      NaN   \n",
       "\n",
       "                     from_messages   other  from_this_person_to_poi    poi  \\\n",
       "KAMINSKI WINCENTY J        14368.0  4669.0                    171.0  False   \n",
       "\n",
       "                     director_fees  deferred_income  long_term_incentive  \\\n",
       "KAMINSKI WINCENTY J            NaN              NaN             323466.0   \n",
       "\n",
       "                                email_address from_poi_to_this_person  \n",
       "KAMINSKI WINCENTY J  vince.kaminski@enron.com                    41.0  \n",
       "\n",
       "[1 rows x 21 columns]"
      ]
     },
     "execution_count": 3,
     "metadata": {},
     "output_type": "execute_result"
    },
    {
     "data": {
      "image/png": "[encoded data removed]",
      "text/plain": [
       "<Figure size 720x720 with 20 Axes>"
      ]
     },
     "metadata": {},
     "output_type": "display_data"
    }
   ],
   "source": [
    "\"\"\"Task 2: Remove outliers\n",
    "\"\"\"\n",
    "df[df.salary > 2.0e7]\n",
    "df[df.total_payments > 0.8e7]\n",
    "\n",
    "g = sea.PairGrid(df, vars=['to_messages','from_messages','shared_receipt_with_poi','from_this_person_to_poi' ],\n",
    "                hue='poi')\n",
    "g.map_lower(plt.scatter)\n",
    "g.map_upper(plt.scatter)\n",
    "g.map_diag(sea.kdeplot, lw=1)\n",
    "df[df.from_messages > 12000]"
   ]
  },
  {
   "cell_type": "code",
   "execution_count": 4,
   "metadata": {},
   "outputs": [],
   "source": [
    "### Remove Outliers data_dict dropping: (is this necessary if convert back to_dict at end?)\n",
    "outliers = ['TOTAL', 'THE TRAVEL AGENCY IN THE PARK', 'KAMINSKI WINCENTY J']\n",
    "for outlier in outliers:\n",
    "    data_dict.pop(outlier, 0)"
   ]
  },
  {
   "cell_type": "code",
   "execution_count": 5,
   "metadata": {},
   "outputs": [],
   "source": [
    "### Correct data for Bhatnagar Sanjay\n",
    "\n",
    "b_sandjay = data_dict['BHATNAGAR SANJAY']\n",
    "b_sandjay['expenses'] = 137864\n",
    "b_sandjay['total_payments'] = 137864\n",
    "b_sandjay['exercised_stock_options'] = 15456734\n",
    "b_sandjay['restricted_stock'] = 2604490\n",
    "b_sandjay['restricted_stock_deferred'] = 2604490\n",
    "b_sandjay['total_stock_value'] = 15456290\n",
    "b_sandjay['director_fees'] = 'NaN'\n",
    "b_sandjay['other'] = 'NaN'\n",
    "\n",
    "### Correct data for B Robert\n",
    "b_robert = data_dict[\"BELFER ROBERT\"]\n",
    "b_robert['deferred_income'] = 102500\n",
    "b_robert['deferral_payments']= 'NaN'\n",
    "b_robert['expenses'] = 3285\n",
    "b_robert['directors_fees'] = 102500\n",
    "b_robert['total_payments']=3285\n",
    "b_robert['exercised_stock_options']='NaN'\n",
    "b_robert['restricted_stock_options']=44093"
   ]
  },
  {
   "cell_type": "code",
   "execution_count": 6,
   "metadata": {},
   "outputs": [],
   "source": [
    "'''Task 3: Create new features'''\n",
    "for name in data_dict:\n",
    "    to_messages = data_dict[name]['to_messages']\n",
    "    from_messages = data_dict[name]['from_messages']\n",
    "    to_user_from_poi = data_dict[name]['from_poi_to_this_person']\n",
    "    from_user_to_poi = data_dict[name]['from_this_person_to_poi']\n",
    "    shared_receipt = data_dict[name]['shared_receipt_with_poi']\n",
    "\n",
    "    if to_messages != 'NaN' and to_user_from_poi != 'NaN':\n",
    "        ratio_from_poi = float(to_user_from_poi)/float(to_messages)\n",
    "    else:\n",
    "        ratio_from_poi = 'NaN'\n",
    "    if from_messages != 'NaN' and from_user_to_poi != 'NaN':\n",
    "        ratio_to_poi = float(from_user_to_poi)/float(from_messages)\n",
    "    else:\n",
    "        ratio_to_poi = 'NaN'\n",
    "    if to_messages != 'NaN' and shared_receipt != 'NaN':\n",
    "        ratio_shared_receipt = float(shared_receipt)/float(to_messages)\n",
    "    else:\n",
    "        ratio_shared_receipt = 'NaN'\n",
    " \n",
    "    data_dict[name]['ratio_from_poi'] = ratio_from_poi\n",
    "    data_dict[name]['ratio_to_poi'] = ratio_to_poi\n",
    "    data_dict[name]['ratio_shared_receipt'] = ratio_to_poi"
   ]
  },
  {
   "cell_type": "code",
   "execution_count": 7,
   "metadata": {},
   "outputs": [],
   "source": [
    "### Feature scaling\n",
    "minmax_features = {}\n",
    "\n",
    "for key in data_dict:\n",
    "    for feature in features_list:\n",
    "        feature_value = data_dict[key][feature]\n",
    "        if feature_value != 'NaN':\n",
    "            if not minmax_features.has_key(feature):\n",
    "                minmax_features[feature] = \\\n",
    "                    {\"min\":feature_value,\"max\":feature_value}\n",
    "            elif feature_value > minmax_features[feature][\"max\"]:\n",
    "                minmax_features[feature][\"max\"]=feature_value\n",
    "            elif feature_value < minmax_features[feature][\"min\"]:\n",
    "                minmax_features[feature][\"min\"]=feature_value\n",
    "\n",
    "for key in data_dict:\n",
    "    for feature in features_list:\n",
    "        feature_value = data_dict[key][feature]\n",
    "        if feature != \"poi\" and feature_value != 'NaN':\n",
    "            feature_value = data_dict[key][feature]\n",
    "            minmax = minmax_features[feature]\n",
    "            mrange = minmax['max']-minmax['min']\n",
    "            feature_value = feature_value - minmax['min']\n",
    "            feature_value = float(feature_value) / float(mrange)\n",
    "            data_dict[key][feature] = feature_value"
   ]
  },
  {
   "cell_type": "code",
   "execution_count": 8,
   "metadata": {},
   "outputs": [],
   "source": [
    "### Store to my_dataset for easy export below.\n",
    "my_dataset = data_dict\n",
    "# Convert dictionary to numpy array, converts NaN to 0.0  \n",
    "# data = featureFormat(my_dataset, features_list, sort_keys = True, remove_all_zeroes = False)\n",
    "data = featureFormat(my_dataset, features_list, sort_keys = True)\n",
    "labels, features = targetFeatureSplit(data)"
   ]
  },
  {
   "cell_type": "markdown",
   "metadata": {},
   "source": [
    "### Adaboost"
   ]
  },
  {
   "cell_type": "code",
   "execution_count": 9,
   "metadata": {},
   "outputs": [],
   "source": [
    "random.seed(0)"
   ]
  },
  {
   "cell_type": "code",
   "execution_count": 10,
   "metadata": {},
   "outputs": [],
   "source": [
    "X_train, X_test, y_train, y_test = train_test_split(features,\n",
    "                                                    labels,\n",
    "                                                    test_size=0.2,\n",
    "                                                    stratify=labels)"
   ]
  },
  {
   "cell_type": "code",
   "execution_count": 11,
   "metadata": {},
   "outputs": [],
   "source": [
    "X_train = np.array(X_train)\n",
    "X_test = np.array(X_test)\n",
    "y_train = np.array(y_train)\n",
    "y_test = np.array(y_test)"
   ]
  },
  {
   "cell_type": "code",
   "execution_count": 12,
   "metadata": {},
   "outputs": [],
   "source": [
    "def check_purity(y):\n",
    "    unique_classes = np.unique(y)\n",
    "    if len(unique_classes)==1:\n",
    "        return True\n",
    "    else:\n",
    "        return False"
   ]
  },
  {
   "cell_type": "code",
   "execution_count": 17,
   "metadata": {},
   "outputs": [],
   "source": [
    "def classify_data(y, w):\n",
    "    dictionary = collections.defaultdict(float)\n",
    "    for i in range(len(y)):\n",
    "        dictionary[y[i]] += w[i]\n",
    "    return max(dictionary.iteritems(), key=operator.itemgetter(1))[0]"
   ]
  },
  {
   "cell_type": "code",
   "execution_count": 14,
   "metadata": {},
   "outputs": [],
   "source": [
    "def get_potential_splits(X):\n",
    "    _,n = X.shape\n",
    "    potential_splits = {}\n",
    "    for i in range(n):\n",
    "        # print i\n",
    "        unique_values = np.unique(X[:,i])\n",
    "        splits = []\n",
    "        # print unique_values\n",
    "        for j in range(1,len(unique_values)):\n",
    "            splits.append((unique_values[j]+unique_values[j-1])/2.0)\n",
    "        # print splits\n",
    "        potential_splits[i] = splits\n",
    "    return potential_splits"
   ]
  },
  {
   "cell_type": "code",
   "execution_count": 15,
   "metadata": {},
   "outputs": [],
   "source": [
    "def split_data(X, y, split_column, threshold, w):\n",
    "    below_rows = np.where(X[:,split_column]<=threshold)[0]\n",
    "    # print below_rows\n",
    "    above_rows = range(X.shape[0])\n",
    "    above_rows = np.setdiff1d(above_rows, below_rows)\n",
    "    # print above_rows\n",
    "    X_below = X[below_rows,:]\n",
    "    y_below = y[below_rows]\n",
    "    w_below = w[below_rows]\n",
    "    X_above = X[above_rows,:]\n",
    "    y_above = y[above_rows]\n",
    "    w_above = w[above_rows]\n",
    "    return X_below, X_above, y_below, y_above, w_below, w_above"
   ]
  },
  {
   "cell_type": "code",
   "execution_count": 16,
   "metadata": {},
   "outputs": [],
   "source": [
    "def split_y(X, y, split_column, threshold, w):\n",
    "    below_rows = np.where(X[:,split_column]<=threshold)[0]\n",
    "    above_rows = range(X.shape[0])\n",
    "    above_rows = np.setdiff1d(above_rows, below_rows)\n",
    "    y_below = y[below_rows]\n",
    "    w_below = w[below_rows]\n",
    "    y_above = y[above_rows]\n",
    "    w_above = w[above_rows]\n",
    "    return y_below, y_above, w_below, w_above"
   ]
  },
  {
   "cell_type": "code",
   "execution_count": 18,
   "metadata": {},
   "outputs": [],
   "source": [
    "def calculate_entropy(y, weights):\n",
    "    probabilities = collections.defaultdict(float)\n",
    "    for i in range(len(y)):\n",
    "        probabilities[y[i]] += weights[i]\n",
    "    p = []\n",
    "    for key, value in probabilities.iteritems():\n",
    "        p.append(value/np.sum(weights))\n",
    "    entropy = -1*(np.sum(p*np.log2(p)))\n",
    "    return entropy"
   ]
  },
  {
   "cell_type": "code",
   "execution_count": 19,
   "metadata": {},
   "outputs": [],
   "source": [
    "def calculate_overall_entropy(y_below, y_above, weights_below, weights_above):\n",
    "    overall_entropy = (np.sum(weights_below)*calculate_entropy(y_below, weights_below) + np.sum(weights_above)*calculate_entropy(y_above, weights_above)) / (np.sum(weights_below)+np.sum(weights_above))\n",
    "    return overall_entropy"
   ]
  },
  {
   "cell_type": "code",
   "execution_count": 20,
   "metadata": {},
   "outputs": [],
   "source": [
    "def determine_best_split(X, y, w):\n",
    "    potential_splits = get_potential_splits(X)\n",
    "    split_column = None\n",
    "    split_threshold = None\n",
    "    min_overall_entropy = 999\n",
    "    for column, splits in potential_splits.iteritems():\n",
    "        for threshold in splits:\n",
    "            y_below, y_above, w_below, w_above = split_y(X, y, column, threshold, w)\n",
    "            overall_entropy = calculate_overall_entropy(y_below, y_above, w_below, w_above)\n",
    "            if overall_entropy < min_overall_entropy:\n",
    "                split_column = column\n",
    "                split_threshold = threshold\n",
    "                min_overall_entropy = overall_entropy\n",
    "    return split_column, split_threshold"
   ]
  },
  {
   "cell_type": "code",
   "execution_count": 23,
   "metadata": {},
   "outputs": [],
   "source": [
    "class DecisionTreeClassifier:\n",
    "    def __init__(self, min_samples = 10, max_depth = 3):\n",
    "        self.is_leaf = False\n",
    "        self.leaf_value = None\n",
    "        self.below = None\n",
    "        self.above = None\n",
    "        self.max_depth = max_depth\n",
    "        self.min_samples = min_samples\n",
    "        self.split_column = None\n",
    "        self.split_threshold = None\n",
    "    def fit(self, X, y, w):\n",
    "        if len(y)<=self.min_samples or check_purity(y) or self.max_depth == 0:\n",
    "            self.is_leaf = True\n",
    "            self.leaf_value = classify_data(y, w)\n",
    "        else:\n",
    "            split_column, split_threshold = determine_best_split(X, y, w)\n",
    "            self.split_column = split_column\n",
    "            self.split_threshold = split_threshold\n",
    "            X_below, X_above, y_below, y_above, w_below, w_above = split_data(X, y, split_column, split_threshold, w)\n",
    "            self.below = DecisionTreeClassifier(self.min_samples, self.max_depth - 1)\n",
    "            self.below.fit(X_below, y_below, w_below)\n",
    "            self.above = DecisionTreeClassifier(self.min_samples, self.max_depth - 1)\n",
    "            self.above.fit(X_above, y_above, w_above)\n",
    "    def predict(self, x):\n",
    "        if self.is_leaf:\n",
    "            return self.leaf_value\n",
    "        else:\n",
    "            if x[self.split_column] <= self.split_threshold:\n",
    "                return self.below.predict(x)\n",
    "            else:\n",
    "                return self.above.predict(x)"
   ]
  },
  {
   "cell_type": "markdown",
   "metadata": {},
   "source": [
    "### Adaboost loop"
   ]
  },
  {
   "cell_type": "code",
   "execution_count": 33,
   "metadata": {},
   "outputs": [],
   "source": [
    "M = 10\n",
    "\n",
    "n_train = len(X_train)\n",
    "# Initialize weights\n",
    "w = np.ones(n_train) / n_train\n",
    "classifiers = [None for _ in range(M)]\n",
    "alpha = [None for _ in range(M)]\n",
    "pred_train = np.zeros(n_train)\n",
    "\n",
    "y_prev = y_train\n",
    "for i in range(M):\n",
    "    # Fit a classifier with the specific weights\n",
    "    clf = DecisionTreeClassifier()\n",
    "    clf.fit(X_train, y_train, w)\n",
    "    classifiers[i] = clf\n",
    "    predictions = []\n",
    "    for row in X_train:\n",
    "        predictions.append(clf.predict(row))\n",
    "    \n",
    "    miss = [int(x) for x in (predictions != y_train)]\n",
    "    miss2 = [x if x==1 else 0 for x in miss]\n",
    "    err_m = np.dot(w,miss) / sum(w)\n",
    "    # Alpha\n",
    "    alpha_m = 0.5 * np.log( (1 - err_m) / float(err_m))\n",
    "    alpha[i]=alpha_m\n",
    "    # New weights\n",
    "    w = np.multiply(w, np.exp([float(x) * alpha_m for x in miss2]))\n",
    "    # Add to prediction\n",
    "    pred_train = [sum(x) for x in zip(pred_train, \n",
    "                                      [x * alpha_m for x in predictions])]"
   ]
  },
  {
   "cell_type": "code",
   "execution_count": 34,
   "metadata": {},
   "outputs": [],
   "source": [
    "final_predictions = []\n",
    "for row in X_test:\n",
    "    pred = 0\n",
    "    for i in range(M):\n",
    "        pred += alpha[i]*(classifiers[i].predict(row))\n",
    "    final_predictions.append(pred>0)"
   ]
  },
  {
   "cell_type": "code",
   "execution_count": 35,
   "metadata": {},
   "outputs": [
    {
     "name": "stdout",
     "output_type": "stream",
     "text": [
      "             precision    recall  f1-score   support\n",
      "\n",
      "        0.0       1.00      0.20      0.33        25\n",
      "        1.0       0.17      1.00      0.29         4\n",
      "\n",
      "avg / total       0.89      0.31      0.33        29\n",
      "\n"
     ]
    }
   ],
   "source": [
    "# final_predictions\n",
    "print classification_report(y_true=y_test, y_pred=final_predictions)"
   ]
  },
  {
   "cell_type": "code",
   "execution_count": null,
   "metadata": {},
   "outputs": [],
   "source": []
  }
 ],
 "metadata": {
  "kernelspec": {
   "display_name": "Python 2",
   "language": "python",
   "name": "python2"
  },
  "language_info": {
   "codemirror_mode": {
    "name": "ipython",
    "version": 2
   },
   "file_extension": ".py",
   "mimetype": "text/x-python",
   "name": "python",
   "nbconvert_exporter": "python",
   "pygments_lexer": "ipython2",
   "version": "2.7.15"
  }
 },
 "nbformat": 4,
 "nbformat_minor": 1
}
